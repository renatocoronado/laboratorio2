{
 "cells": [
  {
   "attachments": {},
   "cell_type": "markdown",
   "metadata": {},
   "source": [
    "### Laboratorio 2"
   ]
  },
  {
   "attachments": {},
   "cell_type": "markdown",
   "metadata": {},
   "source": [
    "##### Ejercicio 1"
   ]
  },
  {
   "cell_type": "code",
   "execution_count": 30,
   "metadata": {},
   "outputs": [
    {
     "name": "stdout",
     "output_type": "stream",
     "text": [
      "Horas: 0, Minutos: 45, Segundos: 43\n"
     ]
    }
   ],
   "source": [
    "datos = input(\"ingrese un numero de segundos: \")\n",
    "datos = int(datos)\n",
    "horas = datos // 3600\n",
    "minutos = (datos % 3600) // 60\n",
    "segundos = (datos % 3600) % 60\n",
    "print(\"Horas: {}, Minutos: {}, Segundos: {}\".format(horas, minutos, segundos))\n"
   ]
  },
  {
   "attachments": {},
   "cell_type": "markdown",
   "metadata": {},
   "source": [
    "##### Ejercicio 2"
   ]
  },
  {
   "cell_type": "code",
   "execution_count": 41,
   "metadata": {},
   "outputs": [],
   "source": [
    "def generar_patron_triangular(num, car):\n",
    "    if num < 20 and num > 0:\n",
    "        for i in range(1, num + 1):\n",
    "            print(car * i, end=\"\")\n",
    "            print(\" \" * 10, end=\"\")\n",
    "            print(car * (num - i + 1), end=\"\")\n",
    "            print(\" \" * 10, end=\"\")\n",
    "            print(car * (num - i + 1), end=\"\")\n",
    "            print(\" \" * 10, end=\"\")\n",
    "            print(car * i, end=\"\")\n",
    "            print()\n",
    "    else:\n",
    "        print('Nùmero debe estar entre 1 y 20')\n",
    "    "
   ]
  },
  {
   "cell_type": "code",
   "execution_count": 44,
   "metadata": {},
   "outputs": [
    {
     "name": "stdout",
     "output_type": "stream",
     "text": [
      "o          ooooooooooooooo          ooooooooooooooo          o\n",
      "oo          oooooooooooooo          oooooooooooooo          oo\n",
      "ooo          ooooooooooooo          ooooooooooooo          ooo\n",
      "oooo          oooooooooooo          oooooooooooo          oooo\n",
      "ooooo          ooooooooooo          ooooooooooo          ooooo\n",
      "oooooo          oooooooooo          oooooooooo          oooooo\n",
      "ooooooo          ooooooooo          ooooooooo          ooooooo\n",
      "oooooooo          oooooooo          oooooooo          oooooooo\n",
      "ooooooooo          ooooooo          ooooooo          ooooooooo\n",
      "oooooooooo          oooooo          oooooo          oooooooooo\n",
      "ooooooooooo          ooooo          ooooo          ooooooooooo\n",
      "oooooooooooo          oooo          oooo          oooooooooooo\n",
      "ooooooooooooo          ooo          ooo          ooooooooooooo\n",
      "oooooooooooooo          oo          oo          oooooooooooooo\n",
      "ooooooooooooooo          o          o          ooooooooooooooo\n"
     ]
    }
   ],
   "source": [
    "generar_patron_triangular(15, \"o\")"
   ]
  },
  {
   "attachments": {},
   "cell_type": "markdown",
   "metadata": {},
   "source": [
    "##### Ejercicio 3"
   ]
  },
  {
   "cell_type": "code",
   "execution_count": 3,
   "metadata": {},
   "outputs": [
    {
     "name": "stdout",
     "output_type": "stream",
     "text": [
      "28 años, 10 meses, 9 dias\n"
     ]
    }
   ],
   "source": [
    "fecha_nacimiento_txt = input(\"ingres fecha de nacimiento en la forma Año-Mes-Dia (AAAA-MM-DD)\")\n",
    "fecha_nacimiento_dt = datetime.datetime.strptime(fecha_nacimiento_txt, '%Y-%m-%d').date()\n",
    "fecha_actual = datetime.date.today()\n",
    "dias_totales = (fecha_actual - fecha_nacimiento_dt).days\n",
    "años = dias_totales // 365\n",
    "dias_restantes = dias_totales % 365\n",
    "meses = dias_restantes // 30\n",
    "dias = dias_restantes % 30\n",
    "print(f\"{años} años, {meses} meses, {dias} dias\")\n"
   ]
  },
  {
   "attachments": {},
   "cell_type": "markdown",
   "metadata": {},
   "source": [
    "##### Ejercicio 4"
   ]
  },
  {
   "cell_type": "code",
   "execution_count": 45,
   "metadata": {},
   "outputs": [],
   "source": [
    "def unir_elementos_tupla(t):\n",
    "    resultado = \"\"\n",
    "    for item in t:\n",
    "        resultado += str(item)\n",
    "    return resultado"
   ]
  },
  {
   "cell_type": "code",
   "execution_count": 46,
   "metadata": {},
   "outputs": [
    {
     "name": "stdout",
     "output_type": "stream",
     "text": [
      "102040570\n"
     ]
    }
   ],
   "source": [
    "tupla_ejemplo = (10, 20, 40, 5, 70)\n",
    "print(unir_elementos_tupla(tupla_ejemplo))\n"
   ]
  },
  {
   "attachments": {},
   "cell_type": "markdown",
   "metadata": {},
   "source": [
    "##### Ejercicio 5"
   ]
  },
  {
   "cell_type": "code",
   "execution_count": 53,
   "metadata": {},
   "outputs": [
    {
     "name": "stdout",
     "output_type": "stream",
     "text": [
      "['X', ('a', 'b'), ('a', 'b', 'c'), 'd']\n"
     ]
    }
   ],
   "source": [
    "lista_tuplas_ejemplo = [(), (), (\"X\"), (\"a\", \"b\"), (\"a\", \"b\", \"c\"), (\"d\")]\n",
    "\n",
    "lista_tuplas_llenas = []\n",
    "\n",
    "for tup in lista_tuplas_ejemplo:\n",
    "    if tup:\n",
    "        lista_tuplas_llenas.append(tup)\n",
    "\n",
    "print(lista_tuplas_llenas)\n"
   ]
  },
  {
   "attachments": {},
   "cell_type": "markdown",
   "metadata": {},
   "source": [
    "##### Ejercicio 6"
   ]
  },
  {
   "cell_type": "code",
   "execution_count": 58,
   "metadata": {},
   "outputs": [],
   "source": [
    "def promedio_tuplas(t):\n",
    "    resultado = []\n",
    "    for tup in t:\n",
    "        resultado.append(sum(tup)/len(tup))\n",
    "    return tuple(resultado)"
   ]
  },
  {
   "cell_type": "code",
   "execution_count": 59,
   "metadata": {},
   "outputs": [
    {
     "name": "stdout",
     "output_type": "stream",
     "text": [
      "(10.5, 44.0, 58.0)\n"
     ]
    }
   ],
   "source": [
    "tupla_de_tuplas_ejemplo = ((10, 10, 10, 12), (30, 45, 56, 45), (81, 80, 39, 32))\n",
    "print(promedio_tuplas(tupla_de_tuplas_ejemplo))"
   ]
  },
  {
   "attachments": {},
   "cell_type": "markdown",
   "metadata": {},
   "source": [
    "##### Ejercicio 7"
   ]
  },
  {
   "cell_type": "code",
   "execution_count": 2,
   "metadata": {},
   "outputs": [],
   "source": [
    "registro_facturas = {}\n",
    "registro_facturas_pagadas = {}"
   ]
  },
  {
   "cell_type": "code",
   "execution_count": 12,
   "metadata": {},
   "outputs": [
    {
     "name": "stdout",
     "output_type": "stream",
     "text": [
      "Se han cobrado 750 y falta de cobrar 750\n"
     ]
    }
   ],
   "source": [
    "\n",
    "accion_a_realizar = input(\"ingrese la letra de la accion que desea realizar: A, añadir factura. P, pagar factura. T, Terminar\")\n",
    "if accion_a_realizar == \"A\":\n",
    "    registro_nuevo = input(\"ingrese numero de factura (numero cuatro digitos)\")\n",
    "    monto = int(input(\"ingreso monto de factura\"))\n",
    "    registro_facturas[registro_nuevo] = monto\n",
    "    print(registro_facturas)\n",
    "elif accion_a_realizar == \"P\":\n",
    "    factura_a_pagar = input(\"ingrese numero de factura a pagar\")\n",
    "    monto_pagado = registro_facturas[factura_a_pagar]\n",
    "    del registro_facturas[factura_a_pagar]\n",
    "    registro_facturas_pagadas[factura_a_pagar] = monto_pagado\n",
    "    cantidad_cobrada = sum(registro_facturas_pagadas.values())\n",
    "    cantidad_sin_cobrar = sum(registro_facturas.values())\n",
    "    print(f\"Se han cobrado {cantidad_cobrada} y falta de cobrar {cantidad_sin_cobrar}\")\n",
    "elif accion_a_realizar == \"T\":\n",
    "    print(\"Gracias por utilizar nuestros servicios\")\n",
    "else:\n",
    "    print(\"Ingrese un comando vàlido\")\n"
   ]
  },
  {
   "attachments": {},
   "cell_type": "markdown",
   "metadata": {},
   "source": [
    "##### Ejercicio 8"
   ]
  },
  {
   "cell_type": "code",
   "execution_count": 2,
   "metadata": {},
   "outputs": [],
   "source": [
    "def crear_baraja():\n",
    "    tipos = [\"T\", \"P\", \"C\", \"E\"]\n",
    "    numeros = [\"01\", \"02\", \"03\", \"04\", \"05\", \"06\", \"07\", \"08\", \"09\", \"10\", \"11\", \"12\", \"13\"]\n",
    "    baraja = set()\n",
    "    for t in tipos:\n",
    "        for n in numeros:\n",
    "            carta = f\"{t}{n}\"\n",
    "            baraja.add(carta)\n",
    "    return baraja"
   ]
  },
  {
   "cell_type": "code",
   "execution_count": 3,
   "metadata": {},
   "outputs": [
    {
     "data": {
      "text/plain": [
       "{'C01',\n",
       " 'C02',\n",
       " 'C03',\n",
       " 'C04',\n",
       " 'C05',\n",
       " 'C06',\n",
       " 'C07',\n",
       " 'C08',\n",
       " 'C09',\n",
       " 'C10',\n",
       " 'C11',\n",
       " 'C12',\n",
       " 'C13',\n",
       " 'E01',\n",
       " 'E02',\n",
       " 'E03',\n",
       " 'E04',\n",
       " 'E05',\n",
       " 'E06',\n",
       " 'E07',\n",
       " 'E08',\n",
       " 'E09',\n",
       " 'E10',\n",
       " 'E11',\n",
       " 'E12',\n",
       " 'E13',\n",
       " 'P01',\n",
       " 'P02',\n",
       " 'P03',\n",
       " 'P04',\n",
       " 'P05',\n",
       " 'P06',\n",
       " 'P07',\n",
       " 'P08',\n",
       " 'P09',\n",
       " 'P10',\n",
       " 'P11',\n",
       " 'P12',\n",
       " 'P13',\n",
       " 'T01',\n",
       " 'T02',\n",
       " 'T03',\n",
       " 'T04',\n",
       " 'T05',\n",
       " 'T06',\n",
       " 'T07',\n",
       " 'T08',\n",
       " 'T09',\n",
       " 'T10',\n",
       " 'T11',\n",
       " 'T12',\n",
       " 'T13'}"
      ]
     },
     "execution_count": 3,
     "metadata": {},
     "output_type": "execute_result"
    }
   ],
   "source": [
    "crear_baraja()"
   ]
  },
  {
   "cell_type": "code",
   "execution_count": 4,
   "metadata": {},
   "outputs": [],
   "source": [
    "def grupos_de_cartas(cantidad_1, cantidad_2):\n",
    "    baraja = crear_baraja()\n",
    "    grupo_1 = set(random.sample(baraja, cantidad_1))\n",
    "    grupo_2 = set(random.sample(baraja, cantidad_2))\n",
    "    return grupo_1, grupo_2"
   ]
  },
  {
   "cell_type": "code",
   "execution_count": 5,
   "metadata": {},
   "outputs": [],
   "source": [
    "from random import randrange\n",
    "import random"
   ]
  },
  {
   "cell_type": "code",
   "execution_count": 6,
   "metadata": {},
   "outputs": [],
   "source": [
    "numero_cartas_1 = randrange(1,52)\n",
    "numero_cartas_2 = randrange(1,52)"
   ]
  },
  {
   "cell_type": "code",
   "execution_count": 7,
   "metadata": {},
   "outputs": [
    {
     "name": "stderr",
     "output_type": "stream",
     "text": [
      "C:\\Users\\renat\\AppData\\Local\\Temp\\ipykernel_19148\\3910432988.py:3: DeprecationWarning: Sampling from a set deprecated\n",
      "since Python 3.9 and will be removed in a subsequent version.\n",
      "  grupo_1 = set(random.sample(baraja, cantidad_1))\n",
      "C:\\Users\\renat\\AppData\\Local\\Temp\\ipykernel_19148\\3910432988.py:4: DeprecationWarning: Sampling from a set deprecated\n",
      "since Python 3.9 and will be removed in a subsequent version.\n",
      "  grupo_2 = set(random.sample(baraja, cantidad_2))\n"
     ]
    }
   ],
   "source": [
    "conjunto_cartas_1, conjunto_cartas_2 = grupos_de_cartas(numero_cartas_1, numero_cartas_2)"
   ]
  },
  {
   "cell_type": "code",
   "execution_count": 8,
   "metadata": {},
   "outputs": [
    {
     "data": {
      "text/plain": [
       "{'C01', 'C07', 'C12', 'C13', 'E10', 'E11', 'E13', 'P11', 'T02', 'T06', 'T13'}"
      ]
     },
     "execution_count": 8,
     "metadata": {},
     "output_type": "execute_result"
    }
   ],
   "source": [
    "interseccion = conjunto_cartas_1.intersection(conjunto_cartas_2)\n",
    "interseccion"
   ]
  },
  {
   "cell_type": "code",
   "execution_count": 16,
   "metadata": {},
   "outputs": [
    {
     "data": {
      "text/plain": [
       "0.23261834319526628"
      ]
     },
     "execution_count": 16,
     "metadata": {},
     "output_type": "execute_result"
    }
   ],
   "source": [
    "# asumiendo que existe reposiciòn de cartas, ya que en el enunciado de la funciòn\n",
    "# no se especifica si ya no se deben tomar en cuenta las cartas elegidas del grupo 1 al momento de elegir el grupo 2\n",
    "# de esta forma, los eventos son independientes\n",
    "\n",
    "prob_interseccion = (len(conjunto_cartas_1)/52) * (len(conjunto_cartas_2)/52)\n",
    "\n",
    "prob_interseccion"
   ]
  },
  {
   "cell_type": "code",
   "execution_count": 17,
   "metadata": {},
   "outputs": [
    {
     "data": {
      "text/plain": [
       "0.8058431952662722"
      ]
     },
     "execution_count": 17,
     "metadata": {},
     "output_type": "execute_result"
    }
   ],
   "source": [
    "# siguiendo la premisa anterior, para la probabilidad de la union se usa la siguiente forma\n",
    "\n",
    "prob_union = (len(conjunto_cartas_1)/52) + (len(conjunto_cartas_2)/52) - ((len(conjunto_cartas_1)/52) * (len(conjunto_cartas_2)/52))\n",
    "\n",
    "prob_union"
   ]
  }
 ],
 "metadata": {
  "kernelspec": {
   "display_name": "Python 3",
   "language": "python",
   "name": "python3"
  },
  "language_info": {
   "codemirror_mode": {
    "name": "ipython",
    "version": 3
   },
   "file_extension": ".py",
   "mimetype": "text/x-python",
   "name": "python",
   "nbconvert_exporter": "python",
   "pygments_lexer": "ipython3",
   "version": "3.10.5"
  },
  "orig_nbformat": 4,
  "vscode": {
   "interpreter": {
    "hash": "8d16696c7c5e1705ba56b1f1c8658fc9a3311c1743452285ed85e35069c857ed"
   }
  }
 },
 "nbformat": 4,
 "nbformat_minor": 2
}
