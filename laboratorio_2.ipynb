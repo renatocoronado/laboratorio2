{
 "cells": [
  {
   "attachments": {},
   "cell_type": "markdown",
   "metadata": {},
   "source": [
    "### Laboratorio 2"
   ]
  },
  {
   "attachments": {},
   "cell_type": "markdown",
   "metadata": {},
   "source": [
    "##### Ejercicio 1"
   ]
  },
  {
   "cell_type": "code",
   "execution_count": 22,
   "metadata": {},
   "outputs": [
    {
     "name": "stdout",
     "output_type": "stream",
     "text": [
      "Horas: 1, Minutos: 0, Segundos: 47\n"
     ]
    }
   ],
   "source": [
    "datos = input(\"ingrese un numero de segundos: \")\n",
    "datos = int(datos)\n",
    "horas = datos // 3600\n",
    "segundos %= 3600\n",
    "minutos = segundos // 60\n",
    "segundos %= 60\n",
    "print(\"Horas: {}, Minutos: {}, Segundos: {}\".format(horas, minutos, segundos))\n"
   ]
  },
  {
   "attachments": {},
   "cell_type": "markdown",
   "metadata": {},
   "source": [
    "##### Ejercicio 2"
   ]
  },
  {
   "cell_type": "code",
   "execution_count": 41,
   "metadata": {},
   "outputs": [],
   "source": [
    "def generar_patron_triangular(num, car):\n",
    "    if num < 20 and num > 0:\n",
    "        for i in range(1, num + 1):\n",
    "            print(car * i, end=\"\")\n",
    "            print(\" \" * 10, end=\"\")\n",
    "            print(car * (num - i + 1), end=\"\")\n",
    "            print(\" \" * 10, end=\"\")\n",
    "            print(car * (num - i + 1), end=\"\")\n",
    "            print(\" \" * 10, end=\"\")\n",
    "            print(car * i, end=\"\")\n",
    "            print()\n",
    "    else:\n",
    "        print('Nùmero debe estar entre 1 y 20')\n",
    "    "
   ]
  },
  {
   "cell_type": "code",
   "execution_count": 44,
   "metadata": {},
   "outputs": [
    {
     "name": "stdout",
     "output_type": "stream",
     "text": [
      "o          ooooooooooooooo          ooooooooooooooo          o\n",
      "oo          oooooooooooooo          oooooooooooooo          oo\n",
      "ooo          ooooooooooooo          ooooooooooooo          ooo\n",
      "oooo          oooooooooooo          oooooooooooo          oooo\n",
      "ooooo          ooooooooooo          ooooooooooo          ooooo\n",
      "oooooo          oooooooooo          oooooooooo          oooooo\n",
      "ooooooo          ooooooooo          ooooooooo          ooooooo\n",
      "oooooooo          oooooooo          oooooooo          oooooooo\n",
      "ooooooooo          ooooooo          ooooooo          ooooooooo\n",
      "oooooooooo          oooooo          oooooo          oooooooooo\n",
      "ooooooooooo          ooooo          ooooo          ooooooooooo\n",
      "oooooooooooo          oooo          oooo          oooooooooooo\n",
      "ooooooooooooo          ooo          ooo          ooooooooooooo\n",
      "oooooooooooooo          oo          oo          oooooooooooooo\n",
      "ooooooooooooooo          o          o          ooooooooooooooo\n"
     ]
    }
   ],
   "source": [
    "generar_patron_triangular(15, \"o\")"
   ]
  },
  {
   "attachments": {},
   "cell_type": "markdown",
   "metadata": {},
   "source": [
    "##### Ejercicio 3"
   ]
  },
  {
   "cell_type": "code",
   "execution_count": null,
   "metadata": {},
   "outputs": [],
   "source": []
  },
  {
   "attachments": {},
   "cell_type": "markdown",
   "metadata": {},
   "source": [
    "##### Ejercicio 4"
   ]
  },
  {
   "cell_type": "code",
   "execution_count": 45,
   "metadata": {},
   "outputs": [],
   "source": [
    "def unir_elementos_tupla(t):\n",
    "    resultado = \"\"\n",
    "    for item in t:\n",
    "        resultado += str(item)\n",
    "    return resultado"
   ]
  },
  {
   "cell_type": "code",
   "execution_count": 46,
   "metadata": {},
   "outputs": [
    {
     "name": "stdout",
     "output_type": "stream",
     "text": [
      "102040570\n"
     ]
    }
   ],
   "source": [
    "tupla_ejemplo = (10, 20, 40, 5, 70)\n",
    "print(unir_elementos_tupla(tupla_ejemplo))\n"
   ]
  },
  {
   "attachments": {},
   "cell_type": "markdown",
   "metadata": {},
   "source": [
    "##### Ejercicio 5"
   ]
  },
  {
   "cell_type": "code",
   "execution_count": 53,
   "metadata": {},
   "outputs": [
    {
     "name": "stdout",
     "output_type": "stream",
     "text": [
      "['X', ('a', 'b'), ('a', 'b', 'c'), 'd']\n"
     ]
    }
   ],
   "source": [
    "lista_tuplas_ejemplo = [(), (), (\"X\"), (\"a\", \"b\"), (\"a\", \"b\", \"c\"), (\"d\")]\n",
    "\n",
    "lista_tuplas_llenas = []\n",
    "\n",
    "for tup in lista_tuplas_ejemplo:\n",
    "    if tup:\n",
    "        lista_tuplas_llenas.append(tup)\n",
    "\n",
    "print(lista_tuplas_llenas)\n"
   ]
  },
  {
   "attachments": {},
   "cell_type": "markdown",
   "metadata": {},
   "source": [
    "##### Ejercicio 6"
   ]
  },
  {
   "cell_type": "code",
   "execution_count": 58,
   "metadata": {},
   "outputs": [],
   "source": [
    "def promedio_tuplas(t):\n",
    "    resultado = []\n",
    "    for tup in t:\n",
    "        resultado.append(sum(tup)/len(tup))\n",
    "    return tuple(resultado)"
   ]
  },
  {
   "cell_type": "code",
   "execution_count": 59,
   "metadata": {},
   "outputs": [
    {
     "name": "stdout",
     "output_type": "stream",
     "text": [
      "(10.5, 44.0, 58.0)\n"
     ]
    }
   ],
   "source": [
    "tupla_de_tuplas_ejemplo = ((10, 10, 10, 12), (30, 45, 56, 45), (81, 80, 39, 32))\n",
    "print(promedio_tuplas(tupla_de_tuplas_ejemplo))"
   ]
  },
  {
   "attachments": {},
   "cell_type": "markdown",
   "metadata": {},
   "source": [
    "##### Ejercicio 7"
   ]
  },
  {
   "cell_type": "code",
   "execution_count": null,
   "metadata": {},
   "outputs": [],
   "source": []
  },
  {
   "attachments": {},
   "cell_type": "markdown",
   "metadata": {},
   "source": [
    "##### Ejercicio 8"
   ]
  },
  {
   "cell_type": "code",
   "execution_count": null,
   "metadata": {},
   "outputs": [],
   "source": []
  }
 ],
 "metadata": {
  "kernelspec": {
   "display_name": "Python 3",
   "language": "python",
   "name": "python3"
  },
  "language_info": {
   "codemirror_mode": {
    "name": "ipython",
    "version": 3
   },
   "file_extension": ".py",
   "mimetype": "text/x-python",
   "name": "python",
   "nbconvert_exporter": "python",
   "pygments_lexer": "ipython3",
   "version": "3.10.5"
  },
  "orig_nbformat": 4,
  "vscode": {
   "interpreter": {
    "hash": "8d16696c7c5e1705ba56b1f1c8658fc9a3311c1743452285ed85e35069c857ed"
   }
  }
 },
 "nbformat": 4,
 "nbformat_minor": 2
}
